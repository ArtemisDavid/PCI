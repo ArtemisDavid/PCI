{
 "cells": [
  {
   "cell_type": "code",
   "execution_count": 1,
   "metadata": {},
   "outputs": [
    {
     "name": "stderr",
     "output_type": "stream",
     "text": [
      "Using TensorFlow backend.\n"
     ]
    }
   ],
   "source": [
    "import itertools, pathlib, pickle, copy, random, os, glob , sys\n",
    "from time import time\n",
    "\n",
    "import pandas as pd\n",
    "import numpy as np\n",
    "import tensorflow as tf\n",
    "\n",
    "import sklearn \n",
    "from sklearn.metrics import precision_recall_fscore_support\n",
    "\n",
    "import keras \n",
    "from keras import backend as K\n",
    "from keras.preprocessing.sequence import pad_sequences\n",
    "from keras.layers import Activation, Dense, Dropout, Input, Embedding, CuDNNLSTM, CuDNNGRU,  GlobalMaxPooling1D, GlobalAveragePooling1D,Reshape\n",
    "\n"
   ]
  },
  {
   "cell_type": "code",
   "execution_count": 2,
   "metadata": {},
   "outputs": [],
   "source": [
    "def gen_data(n, signal=9, length=10, dim=10 ):\n",
    "    x = []\n",
    "    y = []\n",
    "    for i in range(0,n):\n",
    "        seq = np.random.randint(0,dim,length)\n",
    "        loc = np.where(seq==signal) \n",
    "        x.append(seq)\n",
    "        try:\n",
    "            loc_signal = min(loc[0])            \n",
    "            if min(loc[0]) == length - 1:\n",
    "                y.append(0)\n",
    "            else:\n",
    "                y.append( (seq[min(loc[0]) + 1 ] > (dim-1)/2) + 0  )\n",
    "        except:\n",
    "            y.append(0)\n",
    "    x = pad_sequences(x)\n",
    "    y = np.asarray(y)\n",
    "    return x,y "
   ]
  },
  {
   "cell_type": "code",
   "execution_count": 3,
   "metadata": {},
   "outputs": [],
   "source": [
    "def PCI(x_train,y_train, x_val, y_val, x_future, y_future):\n",
    "    input_x = Input(shape=(10,))\n",
    "    GRU_x = Embedding(15,3,input_length=10)(input_x)\n",
    "    GRU_x = CuDNNGRU(15)(GRU_x)\n",
    "    GRU_x = Activation('tanh')(GRU_x)\n",
    "    GRU_x = Dropout(0.2)(GRU_x)\n",
    "\n",
    "    GRU_x = Dense(1, activation='sigmoid')(GRU_x)\n",
    "\n",
    "    GRU_model = keras.models.Model(inputs=[input_x], outputs=[GRU_x] )\n",
    "\n",
    "    GRU_model.compile(\n",
    "        loss='binary_crossentropy', \n",
    "        optimizer=keras.optimizers.adam(0.01),\n",
    "        metrics=['accuracy'])\n",
    "\n",
    "    GRU_model.fit(\n",
    "        x_train, \n",
    "        y_train, \n",
    "        batch_size=200, \n",
    "        epochs = 50,\n",
    "        validation_data=(x_val, y_val) , \n",
    "        shuffle=True, \n",
    "        verbose = 0)\n",
    "    acc_val = GRU_model.evaluate(x_val,y_val)[1]\n",
    "    acc_future = GRU_model.evaluate(x_future,y_future)[1]\n",
    "    PCI = abs(acc_val- acc_future)\n",
    "    \n",
    "    return [acc_val, acc_future, PCI]\n"
   ]
  },
  {
   "cell_type": "code",
   "execution_count": 4,
   "metadata": {},
   "outputs": [
    {
     "name": "stdout",
     "output_type": "stream",
     "text": [
      "Period:0\n",
      "500/500 [==============================] - 0s 40us/step\n",
      "500/500 [==============================] - 0s 40us/step\n",
      "[1.    1.    0.998 0.002]\n",
      "Period:1\n",
      "500/500 [==============================] - 0s 38us/step\n",
      "500/500 [==============================] - 0s 42us/step\n",
      "[2.    0.998 0.998 0.   ]\n",
      "Period:2\n",
      "500/500 [==============================] - 0s 38us/step\n",
      "500/500 [==============================] - 0s 40us/step\n",
      "[3. 1. 1. 0.]\n",
      "Period:3\n",
      "500/500 [==============================] - 0s 40us/step\n",
      "500/500 [==============================] - 0s 42us/step\n",
      "[4.    0.974 0.97  0.004]\n",
      "Period:4\n",
      "500/500 [==============================] - 0s 42us/step\n",
      "500/500 [==============================] - 0s 44us/step\n",
      "[5.   0.97 0.56 0.41]\n",
      "Period:5\n",
      "500/500 [==============================] - 0s 40us/step\n",
      "500/500 [==============================] - 0s 44us/step\n",
      "[6.00000000e+00 9.90000000e-01 9.90000000e-01 4.76837125e-10]\n",
      "Period:6\n",
      "500/500 [==============================] - 0s 44us/step\n",
      "500/500 [==============================] - 0s 44us/step\n",
      "[7.00000000e+00 9.88000000e-01 9.92000000e-01 4.00000048e-03]\n",
      "Period:7\n",
      "500/500 [==============================] - 0s 40us/step\n",
      "500/500 [==============================] - 0s 46us/step\n",
      "[8.00e+00 9.98e-01 9.94e-01 4.00e-03]\n",
      "Period:8\n",
      "500/500 [==============================] - 0s 46us/step\n",
      "500/500 [==============================] - 0s 44us/step\n",
      "[9.00e+00 9.96e-01 1.00e+00 4.00e-03]\n"
     ]
    }
   ],
   "source": [
    "np.random.seed(1)\n",
    "n = 500\n",
    "X_train = [] \n",
    "Y_train = []\n",
    "X_val = [] \n",
    "Y_val = []\n",
    "for t in range(0,5):\n",
    "    tmp_x, tmp_y = gen_data(n,signal=9)\n",
    "    X_train.append(tmp_x)\n",
    "    Y_train.append(tmp_y)\n",
    "    \n",
    "    tmp_x, tmp_y = gen_data(n,signal=9)\n",
    "    X_val.append(tmp_x)\n",
    "    Y_val.append(tmp_y)\n",
    "    \n",
    "for t in range(5,10):\n",
    "    tmp_x, tmp_y = gen_data(n,signal=8)\n",
    "    X_train.append(tmp_x)\n",
    "    Y_train.append(tmp_y)\n",
    "    \n",
    "    tmp_x, tmp_y = gen_data(n,signal=8)\n",
    "    X_val.append(tmp_x)\n",
    "    Y_val.append(tmp_y)\n",
    "\n",
    "output = np.zeros((9,4))\n",
    "\n",
    "for i in range(0,9):\n",
    "    print(\"Period:\" + str(i))\n",
    "    tmp = PCI(X_train[i], Y_train[i], X_val[i], Y_val[i] ,X_val[i+1], Y_val[i+1]) \n",
    "    tmp.insert(0,i+1)\n",
    "    output[i] = tmp\n",
    "    print(output[i])\n",
    "   "
   ]
  },
  {
   "cell_type": "code",
   "execution_count": 24,
   "metadata": {},
   "outputs": [
    {
     "name": "stdout",
     "output_type": "stream",
     "text": [
      "AxesSubplot(0.125,0.125;0.775x0.755)\n",
      "AxesSubplot(0.125,0.125;0.775x0.755)\n",
      "AxesSubplot(0.125,0.125;0.775x0.755)\n"
     ]
    },
    {
     "data": {
      "image/png": "[encoded data removed]",
      "text/plain": [
       "<Figure size 432x288 with 1 Axes>"
      ]
     },
     "metadata": {},
     "output_type": "display_data"
    },
    {
     "data": {
      "image/png": "[encoded data removed]",
      "text/plain": [
       "<Figure size 432x288 with 1 Axes>"
      ]
     },
     "metadata": {},
     "output_type": "display_data"
    },
    {
     "data": {
      "image/png": "[encoded data removed]",
      "text/plain": [
       "<Figure size 432x288 with 1 Axes>"
      ]
     },
     "metadata": {},
     "output_type": "display_data"
    }
   ],
   "source": [
    "import matplotlib.pyplot as plt\n",
    "\n",
    "df = pd.DataFrame(output, columns=[\"time\",\"acc_current\",\"acc_next\",\"PCI\"])\n",
    "\n",
    "fig1 = df.plot(x='time',y='acc_current',legend=False, color = 'orange')\n",
    "fig1.set_xlabel(\"Time period\")\n",
    "fig1.set_ylabel(\"Accuracy\")\n",
    "fig1.set_ylim(0.56,1.02)\n",
    "print(fig1)\n",
    "fig1.get_figure().savefig(\"fig1.png\")\n",
    "\n",
    "fig2 = df.plot(x='time',y=['acc_current', 'acc_next'],style=['-','--'] ,color=['orange','purple'])\n",
    "fig2.set_xlabel(\"Time period\")\n",
    "fig2.set_ylabel(\"Accuracy\")\n",
    "fig2.set_ylim(0.56,1.02)\n",
    "fig2.legend([\"Testing\",\"One-Period-Ahead\"])\n",
    "print(fig2)\n",
    "fig2.get_figure().savefig(\"fig2.png\")\n",
    "\n",
    "fig3 = df.plot(x='time',y='PCI',legend=False)\n",
    "fig3.set_xlabel(\"Time period\")\n",
    "fig3.set_ylabel(\"PCI\")\n",
    "print(fig3)\n",
    "fig3.get_figure().savefig(\"fig3.png\")\n"
   ]
  }
 ],
 "metadata": {
  "kernelspec": {
   "display_name": "Python 3",
   "language": "python",
   "name": "python3"
  },
  "language_info": {
   "codemirror_mode": {
    "name": "ipython",
    "version": 3
   },
   "file_extension": ".py",
   "mimetype": "text/x-python",
   "name": "python",
   "nbconvert_exporter": "python",
   "pygments_lexer": "ipython3",
   "version": "3.6.6"
  }
 },
 "nbformat": 4,
 "nbformat_minor": 2
}
